{
  "nbformat": 4,
  "nbformat_minor": 0,
  "metadata": {
    "colab": {
      "name": "Untitled7.ipynb",
      "provenance": [],
      "collapsed_sections": []
    },
    "kernelspec": {
      "name": "python3",
      "display_name": "Python 3.8.5 64-bit"
    },
    "language_info": {
      "name": "python",
      "version": "3.8.5"
    },
    "widgets": {
      "application/vnd.jupyter.widget-state+json": {
        "cca2916368bd4bfcae8c9ec65ed2bc62": {
          "model_module": "@jupyter-widgets/controls",
          "model_name": "HBoxModel",
          "state": {
            "_view_name": "HBoxView",
            "_dom_classes": [],
            "_model_name": "HBoxModel",
            "_view_module": "@jupyter-widgets/controls",
            "_model_module_version": "1.5.0",
            "_view_count": null,
            "_view_module_version": "1.5.0",
            "box_style": "",
            "layout": "IPY_MODEL_089f2674b9be4d33934293e049be80df",
            "_model_module": "@jupyter-widgets/controls",
            "children": [
              "IPY_MODEL_7306640b81d5440b81d4c51e85b0499d",
              "IPY_MODEL_6761ab8170f740678687b92b8d5cb8d1"
            ]
          }
        },
        "089f2674b9be4d33934293e049be80df": {
          "model_module": "@jupyter-widgets/base",
          "model_name": "LayoutModel",
          "state": {
            "_view_name": "LayoutView",
            "grid_template_rows": null,
            "right": null,
            "justify_content": null,
            "_view_module": "@jupyter-widgets/base",
            "overflow": null,
            "_model_module_version": "1.2.0",
            "_view_count": null,
            "flex_flow": null,
            "width": null,
            "min_width": null,
            "border": null,
            "align_items": null,
            "bottom": null,
            "_model_module": "@jupyter-widgets/base",
            "top": null,
            "grid_column": null,
            "overflow_y": null,
            "overflow_x": null,
            "grid_auto_flow": null,
            "grid_area": null,
            "grid_template_columns": null,
            "flex": null,
            "_model_name": "LayoutModel",
            "justify_items": null,
            "grid_row": null,
            "max_height": null,
            "align_content": null,
            "visibility": null,
            "align_self": null,
            "height": null,
            "min_height": null,
            "padding": null,
            "grid_auto_rows": null,
            "grid_gap": null,
            "max_width": null,
            "order": null,
            "_view_module_version": "1.2.0",
            "grid_template_areas": null,
            "object_position": null,
            "object_fit": null,
            "grid_auto_columns": null,
            "margin": null,
            "display": null,
            "left": null
          }
        },
        "7306640b81d5440b81d4c51e85b0499d": {
          "model_module": "@jupyter-widgets/controls",
          "model_name": "FloatProgressModel",
          "state": {
            "_view_name": "ProgressView",
            "style": "IPY_MODEL_3544a0bdd6214db39bd2f61703d064be",
            "_dom_classes": [],
            "description": "100%",
            "_model_name": "FloatProgressModel",
            "bar_style": "success",
            "max": 5000,
            "_view_module": "@jupyter-widgets/controls",
            "_model_module_version": "1.5.0",
            "value": 5000,
            "_view_count": null,
            "_view_module_version": "1.5.0",
            "orientation": "horizontal",
            "min": 0,
            "description_tooltip": null,
            "_model_module": "@jupyter-widgets/controls",
            "layout": "IPY_MODEL_b63cbde5da5344b791ba2a5ef23a0fe4"
          }
        },
        "6761ab8170f740678687b92b8d5cb8d1": {
          "model_module": "@jupyter-widgets/controls",
          "model_name": "HTMLModel",
          "state": {
            "_view_name": "HTMLView",
            "style": "IPY_MODEL_8f38d58dfbb745c5968dda0762f3fbaf",
            "_dom_classes": [],
            "description": "",
            "_model_name": "HTMLModel",
            "placeholder": "​",
            "_view_module": "@jupyter-widgets/controls",
            "_model_module_version": "1.5.0",
            "value": " 5000/5000 [36:06&lt;00:00,  2.31it/s, loss=0.077]",
            "_view_count": null,
            "_view_module_version": "1.5.0",
            "description_tooltip": null,
            "_model_module": "@jupyter-widgets/controls",
            "layout": "IPY_MODEL_d25003d791034602aace77b7d083b34a"
          }
        },
        "3544a0bdd6214db39bd2f61703d064be": {
          "model_module": "@jupyter-widgets/controls",
          "model_name": "ProgressStyleModel",
          "state": {
            "_view_name": "StyleView",
            "_model_name": "ProgressStyleModel",
            "description_width": "initial",
            "_view_module": "@jupyter-widgets/base",
            "_model_module_version": "1.5.0",
            "_view_count": null,
            "_view_module_version": "1.2.0",
            "bar_color": null,
            "_model_module": "@jupyter-widgets/controls"
          }
        },
        "b63cbde5da5344b791ba2a5ef23a0fe4": {
          "model_module": "@jupyter-widgets/base",
          "model_name": "LayoutModel",
          "state": {
            "_view_name": "LayoutView",
            "grid_template_rows": null,
            "right": null,
            "justify_content": null,
            "_view_module": "@jupyter-widgets/base",
            "overflow": null,
            "_model_module_version": "1.2.0",
            "_view_count": null,
            "flex_flow": null,
            "width": null,
            "min_width": null,
            "border": null,
            "align_items": null,
            "bottom": null,
            "_model_module": "@jupyter-widgets/base",
            "top": null,
            "grid_column": null,
            "overflow_y": null,
            "overflow_x": null,
            "grid_auto_flow": null,
            "grid_area": null,
            "grid_template_columns": null,
            "flex": null,
            "_model_name": "LayoutModel",
            "justify_items": null,
            "grid_row": null,
            "max_height": null,
            "align_content": null,
            "visibility": null,
            "align_self": null,
            "height": null,
            "min_height": null,
            "padding": null,
            "grid_auto_rows": null,
            "grid_gap": null,
            "max_width": null,
            "order": null,
            "_view_module_version": "1.2.0",
            "grid_template_areas": null,
            "object_position": null,
            "object_fit": null,
            "grid_auto_columns": null,
            "margin": null,
            "display": null,
            "left": null
          }
        },
        "8f38d58dfbb745c5968dda0762f3fbaf": {
          "model_module": "@jupyter-widgets/controls",
          "model_name": "DescriptionStyleModel",
          "state": {
            "_view_name": "StyleView",
            "_model_name": "DescriptionStyleModel",
            "description_width": "",
            "_view_module": "@jupyter-widgets/base",
            "_model_module_version": "1.5.0",
            "_view_count": null,
            "_view_module_version": "1.2.0",
            "_model_module": "@jupyter-widgets/controls"
          }
        },
        "d25003d791034602aace77b7d083b34a": {
          "model_module": "@jupyter-widgets/base",
          "model_name": "LayoutModel",
          "state": {
            "_view_name": "LayoutView",
            "grid_template_rows": null,
            "right": null,
            "justify_content": null,
            "_view_module": "@jupyter-widgets/base",
            "overflow": null,
            "_model_module_version": "1.2.0",
            "_view_count": null,
            "flex_flow": null,
            "width": null,
            "min_width": null,
            "border": null,
            "align_items": null,
            "bottom": null,
            "_model_module": "@jupyter-widgets/base",
            "top": null,
            "grid_column": null,
            "overflow_y": null,
            "overflow_x": null,
            "grid_auto_flow": null,
            "grid_area": null,
            "grid_template_columns": null,
            "flex": null,
            "_model_name": "LayoutModel",
            "justify_items": null,
            "grid_row": null,
            "max_height": null,
            "align_content": null,
            "visibility": null,
            "align_self": null,
            "height": null,
            "min_height": null,
            "padding": null,
            "grid_auto_rows": null,
            "grid_gap": null,
            "max_width": null,
            "order": null,
            "_view_module_version": "1.2.0",
            "grid_template_areas": null,
            "object_position": null,
            "object_fit": null,
            "grid_auto_columns": null,
            "margin": null,
            "display": null,
            "left": null
          }
        },
        "e92ec30241954cecb57afbab8d8bb3b5": {
          "model_module": "@jupyter-widgets/controls",
          "model_name": "HBoxModel",
          "state": {
            "_view_name": "HBoxView",
            "_dom_classes": [],
            "_model_name": "HBoxModel",
            "_view_module": "@jupyter-widgets/controls",
            "_model_module_version": "1.5.0",
            "_view_count": null,
            "_view_module_version": "1.5.0",
            "box_style": "",
            "layout": "IPY_MODEL_9517ce90a9cc4dc8a57d9e8abbbff701",
            "_model_module": "@jupyter-widgets/controls",
            "children": [
              "IPY_MODEL_7de7cb137d7f4bbeab3e2b19b2864567",
              "IPY_MODEL_1f0f00d6ebd84819a27debe25fedc35c"
            ]
          }
        },
        "9517ce90a9cc4dc8a57d9e8abbbff701": {
          "model_module": "@jupyter-widgets/base",
          "model_name": "LayoutModel",
          "state": {
            "_view_name": "LayoutView",
            "grid_template_rows": null,
            "right": null,
            "justify_content": null,
            "_view_module": "@jupyter-widgets/base",
            "overflow": null,
            "_model_module_version": "1.2.0",
            "_view_count": null,
            "flex_flow": null,
            "width": null,
            "min_width": null,
            "border": null,
            "align_items": null,
            "bottom": null,
            "_model_module": "@jupyter-widgets/base",
            "top": null,
            "grid_column": null,
            "overflow_y": null,
            "overflow_x": null,
            "grid_auto_flow": null,
            "grid_area": null,
            "grid_template_columns": null,
            "flex": null,
            "_model_name": "LayoutModel",
            "justify_items": null,
            "grid_row": null,
            "max_height": null,
            "align_content": null,
            "visibility": null,
            "align_self": null,
            "height": null,
            "min_height": null,
            "padding": null,
            "grid_auto_rows": null,
            "grid_gap": null,
            "max_width": null,
            "order": null,
            "_view_module_version": "1.2.0",
            "grid_template_areas": null,
            "object_position": null,
            "object_fit": null,
            "grid_auto_columns": null,
            "margin": null,
            "display": null,
            "left": null
          }
        },
        "7de7cb137d7f4bbeab3e2b19b2864567": {
          "model_module": "@jupyter-widgets/controls",
          "model_name": "FloatProgressModel",
          "state": {
            "_view_name": "ProgressView",
            "style": "IPY_MODEL_1f31b336fcc145528d6591cef83589f0",
            "_dom_classes": [],
            "description": "100%",
            "_model_name": "FloatProgressModel",
            "bar_style": "success",
            "max": 5000,
            "_view_module": "@jupyter-widgets/controls",
            "_model_module_version": "1.5.0",
            "value": 5000,
            "_view_count": null,
            "_view_module_version": "1.5.0",
            "orientation": "horizontal",
            "min": 0,
            "description_tooltip": null,
            "_model_module": "@jupyter-widgets/controls",
            "layout": "IPY_MODEL_f870e08b906b4b0e99f02bd22b26619a"
          }
        },
        "1f0f00d6ebd84819a27debe25fedc35c": {
          "model_module": "@jupyter-widgets/controls",
          "model_name": "HTMLModel",
          "state": {
            "_view_name": "HTMLView",
            "style": "IPY_MODEL_7ef6bd8b0da047e99371fc83d56d1db7",
            "_dom_classes": [],
            "description": "",
            "_model_name": "HTMLModel",
            "placeholder": "​",
            "_view_module": "@jupyter-widgets/controls",
            "_model_module_version": "1.5.0",
            "value": " 5000/5000 [00:36&lt;00:00, 135.53it/s, loss=0.0292]",
            "_view_count": null,
            "_view_module_version": "1.5.0",
            "description_tooltip": null,
            "_model_module": "@jupyter-widgets/controls",
            "layout": "IPY_MODEL_f8a340b78a064163ac4c6c08bac347ae"
          }
        },
        "1f31b336fcc145528d6591cef83589f0": {
          "model_module": "@jupyter-widgets/controls",
          "model_name": "ProgressStyleModel",
          "state": {
            "_view_name": "StyleView",
            "_model_name": "ProgressStyleModel",
            "description_width": "initial",
            "_view_module": "@jupyter-widgets/base",
            "_model_module_version": "1.5.0",
            "_view_count": null,
            "_view_module_version": "1.2.0",
            "bar_color": null,
            "_model_module": "@jupyter-widgets/controls"
          }
        },
        "f870e08b906b4b0e99f02bd22b26619a": {
          "model_module": "@jupyter-widgets/base",
          "model_name": "LayoutModel",
          "state": {
            "_view_name": "LayoutView",
            "grid_template_rows": null,
            "right": null,
            "justify_content": null,
            "_view_module": "@jupyter-widgets/base",
            "overflow": null,
            "_model_module_version": "1.2.0",
            "_view_count": null,
            "flex_flow": null,
            "width": null,
            "min_width": null,
            "border": null,
            "align_items": null,
            "bottom": null,
            "_model_module": "@jupyter-widgets/base",
            "top": null,
            "grid_column": null,
            "overflow_y": null,
            "overflow_x": null,
            "grid_auto_flow": null,
            "grid_area": null,
            "grid_template_columns": null,
            "flex": null,
            "_model_name": "LayoutModel",
            "justify_items": null,
            "grid_row": null,
            "max_height": null,
            "align_content": null,
            "visibility": null,
            "align_self": null,
            "height": null,
            "min_height": null,
            "padding": null,
            "grid_auto_rows": null,
            "grid_gap": null,
            "max_width": null,
            "order": null,
            "_view_module_version": "1.2.0",
            "grid_template_areas": null,
            "object_position": null,
            "object_fit": null,
            "grid_auto_columns": null,
            "margin": null,
            "display": null,
            "left": null
          }
        },
        "7ef6bd8b0da047e99371fc83d56d1db7": {
          "model_module": "@jupyter-widgets/controls",
          "model_name": "DescriptionStyleModel",
          "state": {
            "_view_name": "StyleView",
            "_model_name": "DescriptionStyleModel",
            "description_width": "",
            "_view_module": "@jupyter-widgets/base",
            "_model_module_version": "1.5.0",
            "_view_count": null,
            "_view_module_version": "1.2.0",
            "_model_module": "@jupyter-widgets/controls"
          }
        },
        "f8a340b78a064163ac4c6c08bac347ae": {
          "model_module": "@jupyter-widgets/base",
          "model_name": "LayoutModel",
          "state": {
            "_view_name": "LayoutView",
            "grid_template_rows": null,
            "right": null,
            "justify_content": null,
            "_view_module": "@jupyter-widgets/base",
            "overflow": null,
            "_model_module_version": "1.2.0",
            "_view_count": null,
            "flex_flow": null,
            "width": null,
            "min_width": null,
            "border": null,
            "align_items": null,
            "bottom": null,
            "_model_module": "@jupyter-widgets/base",
            "top": null,
            "grid_column": null,
            "overflow_y": null,
            "overflow_x": null,
            "grid_auto_flow": null,
            "grid_area": null,
            "grid_template_columns": null,
            "flex": null,
            "_model_name": "LayoutModel",
            "justify_items": null,
            "grid_row": null,
            "max_height": null,
            "align_content": null,
            "visibility": null,
            "align_self": null,
            "height": null,
            "min_height": null,
            "padding": null,
            "grid_auto_rows": null,
            "grid_gap": null,
            "max_width": null,
            "order": null,
            "_view_module_version": "1.2.0",
            "grid_template_areas": null,
            "object_position": null,
            "object_fit": null,
            "grid_auto_columns": null,
            "margin": null,
            "display": null,
            "left": null
          }
        }
      }
    },
    "interpreter": {
      "hash": "31f2aee4e71d21fbe5cf8b01ff0e069b9275f58929596ceb00d14d90e3e16cd6"
    }
  },
  "cells": [
    {
      "source": [
        "This notebook gives a shallow comparaison the InverseSigmoid loss and the standard CrossEntropy loss, in terms of convergence speed."
      ],
      "cell_type": "markdown",
      "metadata": {}
    },
    {
      "cell_type": "code",
      "metadata": {
        "colab": {
          "base_uri": "https://localhost:8080/",
          "height": 133
        },
        "id": "7Ij0oe1lZqKi",
        "outputId": "3bfd32a7-83e8-448d-e0fb-d7b6e4c41b66"
      },
      "source": [
        "''' Implementation of loss function that's similar to the inverse of the sigmoid function.\n",
        "It could be used instead of CrossEntropy loss function.\n",
        "'''\n",
        "\n",
        "from typing import Optional\n",
        "from numpy import log\n",
        "import torch\n",
        "from torch import nn\n",
        "from torch.nn.functional import nll_loss, softmax\n",
        "\n",
        "@torch.jit.script\n",
        "def invsig_loss(y:torch.Tensor, inds:torch.Tensor, alpha:float, beta:float, gamma:float, reduction:str):\n",
        "    y = softmax(y, dim=1)\n",
        "    y = - nll_loss(y, inds, reduction='none')\n",
        "    y = torch.log(1 / (alpha * y + beta) - 1) + gamma\n",
        "    if reduction == 'sum':\n",
        "        return y.sum()\n",
        "    elif reduction == 'mean':\n",
        "        return y.mean()\n",
        "    return y\n",
        "\n",
        "\n",
        "class InverseSigmoid(nn.Module):\n",
        "\n",
        "    def __init__(self, alpha: float = .9, beta: float = .043, reduction:Optional[str]='mean'):\n",
        "        ''' Initialisation of the loss function.\n",
        "            The formula is :\n",
        "                loss = torch.log(1 / (alpha * y + beta) - 1) + gamma\n",
        "            where: gamma is a float that makes sure the loss is always positive, with loss(1)==0.\n",
        "        Args: \n",
        "            - alpha, beta (floats): Two positive floats used to control: gradient step near 0 and 1.\n",
        "                                    They need to be set carefully; always make sure that: 'alpha + beta < 1.'\n",
        "            - reduction (string, optional): Specifies the reduction to apply to the output: 'none' | 'mean' | 'sum'. \n",
        "                                            'none': no reduction will be applied, \n",
        "                                            'mean': the mean of the output is taken, \n",
        "                                            'sum': the output will be summed.\n",
        "        '''\n",
        "        super().__init__()\n",
        "\n",
        "        assert alpha>0 and beta>0 and alpha+beta<1, f'Make sure: {alpha=}>0, {beta=}>0, and {alpha+beta=}<1 '\n",
        "\n",
        "        self.reduction = reduction\n",
        "        self.alpha = alpha\n",
        "        self.beta = beta\n",
        "        # Assert loss(1)==0\n",
        "        self.gamma = -log(1/(alpha + beta)-1)\n",
        "\n",
        "    def forward(self, y:torch.Tensor, inds:torch.Tensor):\n",
        "        ''' Compute the inverse sigmoid loss function\n",
        "        \n",
        "        Args:\n",
        "            - y: A Float tensor with a shape (batch, C, d1, d2, ..., dK), C: number of classes.\n",
        "            - inds: A Long tensor of indices, with a shape (batch, d1, d2, ..., dK), \n",
        "                    where each entry is non-negative and smaller than C.\n",
        "        \n",
        "        Returns:\n",
        "            - loss: depending on the reduction, the resulting tensor could be a scalar tensor, \n",
        "                    or a tensor with the same shape as 'inds' if 'reduction' is 'none'.\n",
        "        '''\n",
        "        return invsig_loss(y, inds, self.alpha, self.beta, self.gamma, self.reduction)"
      ],
      "execution_count": 1,
      "outputs": []
    },
    {
      "cell_type": "code",
      "metadata": {
        "colab": {
          "base_uri": "https://localhost:8080/"
        },
        "id": "aAKIZNz-aqGa",
        "outputId": "5a8991a1-2b55-4f5e-d68f-94930b67c7ce"
      },
      "source": [
        "_a = torch.rand(4, 5)\n",
        "b = torch.tensor([1, 2, 3, 0])\n",
        "_a"
      ],
      "execution_count": 2,
      "outputs": [
        {
          "output_type": "execute_result",
          "data": {
            "text/plain": [
              "tensor([[0.7790, 0.0273, 0.0389, 0.3824, 0.7264],\n",
              "        [0.5642, 0.3020, 0.2234, 0.1934, 0.3828],\n",
              "        [0.9071, 0.1188, 0.5804, 0.1271, 0.6016],\n",
              "        [0.0436, 0.3242, 0.5156, 0.3085, 0.3335]])"
            ]
          },
          "metadata": {},
          "execution_count": 2
        }
      ]
    },
    {
      "cell_type": "code",
      "metadata": {
        "colab": {
          "base_uri": "https://localhost:8080/"
        },
        "id": "Wtqn0zyrfz7s",
        "outputId": "962fe6df-397e-4281-b9d1-5598deab79a2"
      },
      "source": [
        "loss1 = InverseSigmoid()\n",
        "params1 = nn.Parameter(_a.clone().detach())"
      ],
      "execution_count": 3,
      "outputs": []
    },
    {
      "cell_type": "code",
      "metadata": {
        "colab": {
          "base_uri": "https://localhost:8080/"
        },
        "id": "KPVdY2qwf1gn",
        "outputId": "d6e3bc2b-b8f6-4659-aa0c-4395e8555d06"
      },
      "source": [
        "loss2 = nn.CrossEntropyLoss()\n",
        "params2 = nn.Parameter(_a.clone().detach())"
      ],
      "execution_count": 4,
      "outputs": []
    },
    {
      "cell_type": "code",
      "metadata": {
        "colab": {
          "base_uri": "https://localhost:8080/"
        },
        "id": "jpuaDGfoaq64",
        "outputId": "95cba07d-3143-438c-e6cf-568310014535"
      },
      "source": [
        "from tqdm.notebook import tqdm\n",
        "\n",
        "def train(loss, params, epochs):\n",
        "    opt = torch.optim.Adam([params], )\n",
        "    with tqdm(total=epochs) as pbar:\n",
        "        for i in range(epochs):\n",
        "            opt.zero_grad()\n",
        "            l = loss(params, b)\n",
        "            l.backward()\n",
        "            opt.step()\n",
        "            if i%1000 == 0:\n",
        "                print('loss =', l.item())\n",
        "            pbar.update(1)\n",
        "            pbar.set_postfix({'loss':l.item()})"
      ],
      "execution_count": 5,
      "outputs": []
    },
    {
      "cell_type": "code",
      "metadata": {
        "colab": {
          "base_uri": "https://localhost:8080/"
        },
        "id": "zTs9y53CawRS",
        "outputId": "57766532-77a9-4fe8-a973-c8c3ea1d50c1"
      },
      "source": [
        "epochs = 2000"
      ],
      "execution_count": 6,
      "outputs": []
    },
    {
      "cell_type": "code",
      "metadata": {
        "colab": {
          "base_uri": "https://localhost:8080/",
          "height": 168,
          "referenced_widgets": [
            "cca2916368bd4bfcae8c9ec65ed2bc62",
            "089f2674b9be4d33934293e049be80df",
            "7306640b81d5440b81d4c51e85b0499d",
            "6761ab8170f740678687b92b8d5cb8d1",
            "3544a0bdd6214db39bd2f61703d064be",
            "b63cbde5da5344b791ba2a5ef23a0fe4",
            "8f38d58dfbb745c5968dda0762f3fbaf",
            "d25003d791034602aace77b7d083b34a"
          ]
        },
        "id": "P9PFTzw8gLcY",
        "outputId": "b8950b90-71ff-4aa7-c414-1ca1009e6d52"
      },
      "source": [
        "train(loss1, params1, epochs)"
      ],
      "execution_count": 7,
      "outputs": [
        {
          "output_type": "display_data",
          "data": {
            "text/plain": "HBox(children=(FloatProgress(value=0.0, max=2000.0), HTML(value='')))",
            "application/vnd.jupyter.widget-view+json": {
              "version_major": 2,
              "version_minor": 0,
              "model_id": "dc60060cca96457d81c8705058086aa7"
            }
          },
          "metadata": {}
        },
        {
          "output_type": "stream",
          "name": "stdout",
          "text": [
            "loss = 4.3429436683654785\n",
            "loss = 2.548475503921509\n",
            "\n"
          ]
        }
      ]
    },
    {
      "cell_type": "code",
      "metadata": {
        "colab": {
          "base_uri": "https://localhost:8080/",
          "height": 168,
          "referenced_widgets": [
            "e92ec30241954cecb57afbab8d8bb3b5",
            "9517ce90a9cc4dc8a57d9e8abbbff701",
            "7de7cb137d7f4bbeab3e2b19b2864567",
            "1f0f00d6ebd84819a27debe25fedc35c",
            "1f31b336fcc145528d6591cef83589f0",
            "f870e08b906b4b0e99f02bd22b26619a",
            "7ef6bd8b0da047e99371fc83d56d1db7",
            "f8a340b78a064163ac4c6c08bac347ae"
          ]
        },
        "id": "MHjnOP27fTcE",
        "outputId": "807706e0-5d85-4227-a104-d9b01b0b6cba"
      },
      "source": [
        "train(loss2, params2, epochs)"
      ],
      "execution_count": 8,
      "outputs": [
        {
          "output_type": "display_data",
          "data": {
            "text/plain": "HBox(children=(FloatProgress(value=0.0, max=2000.0), HTML(value='')))",
            "application/vnd.jupyter.widget-view+json": {
              "version_major": 2,
              "version_minor": 0,
              "model_id": "2e559cd143254feca301c2dd76b2c5b8"
            }
          },
          "metadata": {}
        },
        {
          "output_type": "stream",
          "name": "stdout",
          "text": [
            "loss = 1.9074592590332031\n",
            "loss = 0.677466094493866\n",
            "\n"
          ]
        }
      ]
    },
    {
      "cell_type": "code",
      "metadata": {
        "colab": {
          "base_uri": "https://localhost:8080/"
        },
        "id": "SokA3fKJgSMn",
        "outputId": "247e9627-42e9-4942-d859-63260dbb0da7"
      },
      "source": [
        "loss2(params1, b)"
      ],
      "execution_count": 9,
      "outputs": [
        {
          "output_type": "execute_result",
          "data": {
            "text/plain": [
              "tensor(0.1080, grad_fn=<NllLossBackward>)"
            ]
          },
          "metadata": {},
          "execution_count": 9
        }
      ]
    },
    {
      "cell_type": "code",
      "metadata": {
        "colab": {
          "base_uri": "https://localhost:8080/"
        },
        "id": "qnl0YI0ohTSL",
        "outputId": "ddf1681b-9c19-4cc4-d028-7245a1e9b68e"
      },
      "source": [
        "loss1(params2, b)"
      ],
      "execution_count": 10,
      "outputs": [
        {
          "output_type": "execute_result",
          "data": {
            "text/plain": [
              "tensor(1.7347, grad_fn=<MeanBackward0>)"
            ]
          },
          "metadata": {},
          "execution_count": 10
        }
      ]
    },
    {
      "cell_type": "code",
      "metadata": {
        "id": "EkuZs4TThUzZ"
      },
      "source": [],
      "execution_count": 93,
      "outputs": []
    },
    {
      "cell_type": "code",
      "metadata": {
        "id": "zK3yJBuVnmfq"
      },
      "source": [],
      "execution_count": 93,
      "outputs": []
    }
  ]
}