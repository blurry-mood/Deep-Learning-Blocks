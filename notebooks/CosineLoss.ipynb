{
  "nbformat": 4,
  "nbformat_minor": 0,
  "metadata": {
    "colab": {
      "name": "Untitled7.ipynb",
      "provenance": [],
      "collapsed_sections": []
    },
    "kernelspec": {
      "name": "python3",
      "display_name": "Python 3"
    },
    "language_info": {
      "name": "python"
    },
    "widgets": {
      "application/vnd.jupyter.widget-state+json": {
        "241a15c0526f42e7aad8160b504edfa8": {
          "model_module": "@jupyter-widgets/controls",
          "model_name": "HBoxModel",
          "state": {
            "_view_name": "HBoxView",
            "_dom_classes": [],
            "_model_name": "HBoxModel",
            "_view_module": "@jupyter-widgets/controls",
            "_model_module_version": "1.5.0",
            "_view_count": null,
            "_view_module_version": "1.5.0",
            "box_style": "",
            "layout": "IPY_MODEL_6168dbb09c904809acbe9b88b85a1afa",
            "_model_module": "@jupyter-widgets/controls",
            "children": [
              "IPY_MODEL_a0380bde8aaa4d70810dd773fdef2b46",
              "IPY_MODEL_9e7f123709fb4bfbbfea8ee953e7a2c1"
            ]
          }
        },
        "6168dbb09c904809acbe9b88b85a1afa": {
          "model_module": "@jupyter-widgets/base",
          "model_name": "LayoutModel",
          "state": {
            "_view_name": "LayoutView",
            "grid_template_rows": null,
            "right": null,
            "justify_content": null,
            "_view_module": "@jupyter-widgets/base",
            "overflow": null,
            "_model_module_version": "1.2.0",
            "_view_count": null,
            "flex_flow": null,
            "width": null,
            "min_width": null,
            "border": null,
            "align_items": null,
            "bottom": null,
            "_model_module": "@jupyter-widgets/base",
            "top": null,
            "grid_column": null,
            "overflow_y": null,
            "overflow_x": null,
            "grid_auto_flow": null,
            "grid_area": null,
            "grid_template_columns": null,
            "flex": null,
            "_model_name": "LayoutModel",
            "justify_items": null,
            "grid_row": null,
            "max_height": null,
            "align_content": null,
            "visibility": null,
            "align_self": null,
            "height": null,
            "min_height": null,
            "padding": null,
            "grid_auto_rows": null,
            "grid_gap": null,
            "max_width": null,
            "order": null,
            "_view_module_version": "1.2.0",
            "grid_template_areas": null,
            "object_position": null,
            "object_fit": null,
            "grid_auto_columns": null,
            "margin": null,
            "display": null,
            "left": null
          }
        },
        "a0380bde8aaa4d70810dd773fdef2b46": {
          "model_module": "@jupyter-widgets/controls",
          "model_name": "FloatProgressModel",
          "state": {
            "_view_name": "ProgressView",
            "style": "IPY_MODEL_6932105ba1b743ca81df2b314f9d5711",
            "_dom_classes": [],
            "description": "100%",
            "_model_name": "FloatProgressModel",
            "bar_style": "success",
            "max": 5000,
            "_view_module": "@jupyter-widgets/controls",
            "_model_module_version": "1.5.0",
            "value": 5000,
            "_view_count": null,
            "_view_module_version": "1.5.0",
            "orientation": "horizontal",
            "min": 0,
            "description_tooltip": null,
            "_model_module": "@jupyter-widgets/controls",
            "layout": "IPY_MODEL_6e5c26215a094d058cdea4ec59fed44c"
          }
        },
        "9e7f123709fb4bfbbfea8ee953e7a2c1": {
          "model_module": "@jupyter-widgets/controls",
          "model_name": "HTMLModel",
          "state": {
            "_view_name": "HTMLView",
            "style": "IPY_MODEL_61eda86cd804427c8c14ec69c47fa2a1",
            "_dom_classes": [],
            "description": "",
            "_model_name": "HTMLModel",
            "placeholder": "​",
            "_view_module": "@jupyter-widgets/controls",
            "_model_module_version": "1.5.0",
            "value": " 5000/5000 [00:18&lt;00:00, 267.40it/s, loss=0.015]",
            "_view_count": null,
            "_view_module_version": "1.5.0",
            "description_tooltip": null,
            "_model_module": "@jupyter-widgets/controls",
            "layout": "IPY_MODEL_17618b3f48404e82b5e006f06a88b1b0"
          }
        },
        "6932105ba1b743ca81df2b314f9d5711": {
          "model_module": "@jupyter-widgets/controls",
          "model_name": "ProgressStyleModel",
          "state": {
            "_view_name": "StyleView",
            "_model_name": "ProgressStyleModel",
            "description_width": "initial",
            "_view_module": "@jupyter-widgets/base",
            "_model_module_version": "1.5.0",
            "_view_count": null,
            "_view_module_version": "1.2.0",
            "bar_color": null,
            "_model_module": "@jupyter-widgets/controls"
          }
        },
        "6e5c26215a094d058cdea4ec59fed44c": {
          "model_module": "@jupyter-widgets/base",
          "model_name": "LayoutModel",
          "state": {
            "_view_name": "LayoutView",
            "grid_template_rows": null,
            "right": null,
            "justify_content": null,
            "_view_module": "@jupyter-widgets/base",
            "overflow": null,
            "_model_module_version": "1.2.0",
            "_view_count": null,
            "flex_flow": null,
            "width": null,
            "min_width": null,
            "border": null,
            "align_items": null,
            "bottom": null,
            "_model_module": "@jupyter-widgets/base",
            "top": null,
            "grid_column": null,
            "overflow_y": null,
            "overflow_x": null,
            "grid_auto_flow": null,
            "grid_area": null,
            "grid_template_columns": null,
            "flex": null,
            "_model_name": "LayoutModel",
            "justify_items": null,
            "grid_row": null,
            "max_height": null,
            "align_content": null,
            "visibility": null,
            "align_self": null,
            "height": null,
            "min_height": null,
            "padding": null,
            "grid_auto_rows": null,
            "grid_gap": null,
            "max_width": null,
            "order": null,
            "_view_module_version": "1.2.0",
            "grid_template_areas": null,
            "object_position": null,
            "object_fit": null,
            "grid_auto_columns": null,
            "margin": null,
            "display": null,
            "left": null
          }
        },
        "61eda86cd804427c8c14ec69c47fa2a1": {
          "model_module": "@jupyter-widgets/controls",
          "model_name": "DescriptionStyleModel",
          "state": {
            "_view_name": "StyleView",
            "_model_name": "DescriptionStyleModel",
            "description_width": "",
            "_view_module": "@jupyter-widgets/base",
            "_model_module_version": "1.5.0",
            "_view_count": null,
            "_view_module_version": "1.2.0",
            "_model_module": "@jupyter-widgets/controls"
          }
        },
        "17618b3f48404e82b5e006f06a88b1b0": {
          "model_module": "@jupyter-widgets/base",
          "model_name": "LayoutModel",
          "state": {
            "_view_name": "LayoutView",
            "grid_template_rows": null,
            "right": null,
            "justify_content": null,
            "_view_module": "@jupyter-widgets/base",
            "overflow": null,
            "_model_module_version": "1.2.0",
            "_view_count": null,
            "flex_flow": null,
            "width": null,
            "min_width": null,
            "border": null,
            "align_items": null,
            "bottom": null,
            "_model_module": "@jupyter-widgets/base",
            "top": null,
            "grid_column": null,
            "overflow_y": null,
            "overflow_x": null,
            "grid_auto_flow": null,
            "grid_area": null,
            "grid_template_columns": null,
            "flex": null,
            "_model_name": "LayoutModel",
            "justify_items": null,
            "grid_row": null,
            "max_height": null,
            "align_content": null,
            "visibility": null,
            "align_self": null,
            "height": null,
            "min_height": null,
            "padding": null,
            "grid_auto_rows": null,
            "grid_gap": null,
            "max_width": null,
            "order": null,
            "_view_module_version": "1.2.0",
            "grid_template_areas": null,
            "object_position": null,
            "object_fit": null,
            "grid_auto_columns": null,
            "margin": null,
            "display": null,
            "left": null
          }
        },
        "2ec2934e3128477b835c417de1b37a54": {
          "model_module": "@jupyter-widgets/controls",
          "model_name": "HBoxModel",
          "state": {
            "_view_name": "HBoxView",
            "_dom_classes": [],
            "_model_name": "HBoxModel",
            "_view_module": "@jupyter-widgets/controls",
            "_model_module_version": "1.5.0",
            "_view_count": null,
            "_view_module_version": "1.5.0",
            "box_style": "",
            "layout": "IPY_MODEL_5c406aeed38745e2bacf64e840648993",
            "_model_module": "@jupyter-widgets/controls",
            "children": [
              "IPY_MODEL_dd482b582439423cbccb022e559dccbc",
              "IPY_MODEL_7ade7b08483848a5973c365226817a9e"
            ]
          }
        },
        "5c406aeed38745e2bacf64e840648993": {
          "model_module": "@jupyter-widgets/base",
          "model_name": "LayoutModel",
          "state": {
            "_view_name": "LayoutView",
            "grid_template_rows": null,
            "right": null,
            "justify_content": null,
            "_view_module": "@jupyter-widgets/base",
            "overflow": null,
            "_model_module_version": "1.2.0",
            "_view_count": null,
            "flex_flow": null,
            "width": null,
            "min_width": null,
            "border": null,
            "align_items": null,
            "bottom": null,
            "_model_module": "@jupyter-widgets/base",
            "top": null,
            "grid_column": null,
            "overflow_y": null,
            "overflow_x": null,
            "grid_auto_flow": null,
            "grid_area": null,
            "grid_template_columns": null,
            "flex": null,
            "_model_name": "LayoutModel",
            "justify_items": null,
            "grid_row": null,
            "max_height": null,
            "align_content": null,
            "visibility": null,
            "align_self": null,
            "height": null,
            "min_height": null,
            "padding": null,
            "grid_auto_rows": null,
            "grid_gap": null,
            "max_width": null,
            "order": null,
            "_view_module_version": "1.2.0",
            "grid_template_areas": null,
            "object_position": null,
            "object_fit": null,
            "grid_auto_columns": null,
            "margin": null,
            "display": null,
            "left": null
          }
        },
        "dd482b582439423cbccb022e559dccbc": {
          "model_module": "@jupyter-widgets/controls",
          "model_name": "FloatProgressModel",
          "state": {
            "_view_name": "ProgressView",
            "style": "IPY_MODEL_abee176cb988486c9bf49e791932f0d6",
            "_dom_classes": [],
            "description": "100%",
            "_model_name": "FloatProgressModel",
            "bar_style": "success",
            "max": 5000,
            "_view_module": "@jupyter-widgets/controls",
            "_model_module_version": "1.5.0",
            "value": 5000,
            "_view_count": null,
            "_view_module_version": "1.5.0",
            "orientation": "horizontal",
            "min": 0,
            "description_tooltip": null,
            "_model_module": "@jupyter-widgets/controls",
            "layout": "IPY_MODEL_69491110ac5f4aa580c0901aa281c20f"
          }
        },
        "7ade7b08483848a5973c365226817a9e": {
          "model_module": "@jupyter-widgets/controls",
          "model_name": "HTMLModel",
          "state": {
            "_view_name": "HTMLView",
            "style": "IPY_MODEL_31c22d29e5e94dbfb1345331a03f4884",
            "_dom_classes": [],
            "description": "",
            "_model_name": "HTMLModel",
            "placeholder": "​",
            "_view_module": "@jupyter-widgets/controls",
            "_model_module_version": "1.5.0",
            "value": " 5000/5000 [00:28&lt;00:00, 175.90it/s, loss=0.0281]",
            "_view_count": null,
            "_view_module_version": "1.5.0",
            "description_tooltip": null,
            "_model_module": "@jupyter-widgets/controls",
            "layout": "IPY_MODEL_bfcf984fa8084bd29d2ed5e27dc9fccb"
          }
        },
        "abee176cb988486c9bf49e791932f0d6": {
          "model_module": "@jupyter-widgets/controls",
          "model_name": "ProgressStyleModel",
          "state": {
            "_view_name": "StyleView",
            "_model_name": "ProgressStyleModel",
            "description_width": "initial",
            "_view_module": "@jupyter-widgets/base",
            "_model_module_version": "1.5.0",
            "_view_count": null,
            "_view_module_version": "1.2.0",
            "bar_color": null,
            "_model_module": "@jupyter-widgets/controls"
          }
        },
        "69491110ac5f4aa580c0901aa281c20f": {
          "model_module": "@jupyter-widgets/base",
          "model_name": "LayoutModel",
          "state": {
            "_view_name": "LayoutView",
            "grid_template_rows": null,
            "right": null,
            "justify_content": null,
            "_view_module": "@jupyter-widgets/base",
            "overflow": null,
            "_model_module_version": "1.2.0",
            "_view_count": null,
            "flex_flow": null,
            "width": null,
            "min_width": null,
            "border": null,
            "align_items": null,
            "bottom": null,
            "_model_module": "@jupyter-widgets/base",
            "top": null,
            "grid_column": null,
            "overflow_y": null,
            "overflow_x": null,
            "grid_auto_flow": null,
            "grid_area": null,
            "grid_template_columns": null,
            "flex": null,
            "_model_name": "LayoutModel",
            "justify_items": null,
            "grid_row": null,
            "max_height": null,
            "align_content": null,
            "visibility": null,
            "align_self": null,
            "height": null,
            "min_height": null,
            "padding": null,
            "grid_auto_rows": null,
            "grid_gap": null,
            "max_width": null,
            "order": null,
            "_view_module_version": "1.2.0",
            "grid_template_areas": null,
            "object_position": null,
            "object_fit": null,
            "grid_auto_columns": null,
            "margin": null,
            "display": null,
            "left": null
          }
        },
        "31c22d29e5e94dbfb1345331a03f4884": {
          "model_module": "@jupyter-widgets/controls",
          "model_name": "DescriptionStyleModel",
          "state": {
            "_view_name": "StyleView",
            "_model_name": "DescriptionStyleModel",
            "description_width": "",
            "_view_module": "@jupyter-widgets/base",
            "_model_module_version": "1.5.0",
            "_view_count": null,
            "_view_module_version": "1.2.0",
            "_model_module": "@jupyter-widgets/controls"
          }
        },
        "bfcf984fa8084bd29d2ed5e27dc9fccb": {
          "model_module": "@jupyter-widgets/base",
          "model_name": "LayoutModel",
          "state": {
            "_view_name": "LayoutView",
            "grid_template_rows": null,
            "right": null,
            "justify_content": null,
            "_view_module": "@jupyter-widgets/base",
            "overflow": null,
            "_model_module_version": "1.2.0",
            "_view_count": null,
            "flex_flow": null,
            "width": null,
            "min_width": null,
            "border": null,
            "align_items": null,
            "bottom": null,
            "_model_module": "@jupyter-widgets/base",
            "top": null,
            "grid_column": null,
            "overflow_y": null,
            "overflow_x": null,
            "grid_auto_flow": null,
            "grid_area": null,
            "grid_template_columns": null,
            "flex": null,
            "_model_name": "LayoutModel",
            "justify_items": null,
            "grid_row": null,
            "max_height": null,
            "align_content": null,
            "visibility": null,
            "align_self": null,
            "height": null,
            "min_height": null,
            "padding": null,
            "grid_auto_rows": null,
            "grid_gap": null,
            "max_width": null,
            "order": null,
            "_view_module_version": "1.2.0",
            "grid_template_areas": null,
            "object_position": null,
            "object_fit": null,
            "grid_auto_columns": null,
            "margin": null,
            "display": null,
            "left": null
          }
        }
      }
    }
  },
  "cells": [
    {
      "source": [
        "This notebook gives a shallow comparaison the Cosine loss and the standard CrossEntropy loss, in terms of convergence speed.   \n",
        "Both loss function try to minimize the loss of, let's say, only the last layer of a network."
      ],
      "cell_type": "markdown",
      "metadata": {
        "colab": {
          "base_uri": "https://localhost:8080/"
        },
        "id": "hfwP4WNyi3f-",
        "outputId": "7c18868e-0a41-44e3-bf36-b22cd6568609"
      }
    },
    {
      "cell_type": "code",
      "metadata": {
        "colab": {
          "base_uri": "https://localhost:8080/"
        },
        "id": "7Ij0oe1lZqKi",
        "outputId": "091278a6-e3d7-4e87-dca3-cd816c8a617e"
      },
      "source": [
        "''' Implementation of loss function that is based on the cosine function.\n",
        "    It could be used instead of CrossEntropy loss function.\n",
        "'''\n",
        "\n",
        "from typing import Optional\n",
        "from numpy import pi, cos\n",
        "import torch\n",
        "from torch import nn\n",
        "from torch.nn.functional import nll_loss, softmax\n",
        "\n",
        "@torch.jit.script\n",
        "def cosine_loss(y: torch.Tensor, inds: torch.Tensor, alpha: float, beta: float, gamma: float, reduction: str, pi:float=pi):\n",
        "    y = softmax(y, dim=1)\n",
        "    y = - nll_loss(y, inds, reduction='none')\n",
        "    y = torch.cos(pi/2 * alpha * y + beta) + gamma\n",
        "\n",
        "    if reduction == 'sum':\n",
        "        return y.sum()\n",
        "    elif reduction == 'mean':\n",
        "        return y.mean()\n",
        "    return y\n",
        "\n",
        "\n",
        "class Cosine(nn.Module):\n",
        "\n",
        "    def __init__(self, alpha: float = .9, beta: float = 1., reduction: Optional[str] = 'mean'):\n",
        "        ''' Initialisation of the loss function.\n",
        "            The formula is :\n",
        "                loss = torch.cos(HALF_PI * alpha * y + beta) + gamma\n",
        "            where: gamma is a float that makes sure the loss is always positive, with loss(1)==0.\n",
        "        Args: \n",
        "            - alpha, beta (floats): Two positive floats used to control: gradient step near 0 and 1.\n",
        "                                    They need to be set carefully; always make sure that: 'beta <= pi*(1-alpha/2).'\n",
        "            - reduction (string, optional): Specifies the reduction to apply to the output: 'none' | 'mean' | 'sum'. \n",
        "                                            'none': no reduction will be applied, \n",
        "                                            'mean': the mean of the output is taken, \n",
        "                                            'sum': the output will be summed.\n",
        "        '''\n",
        "        super().__init__()\n",
        "\n",
        "        # assert alpha > 0 and beta > 0 and beta <= pi * \\\n",
        "        #     (1 - alpha /\n",
        "        #      2), f'Make sure: {alpha=}>0, {beta=}>0, and {beta=}<{pi*(1-alpha/2)=} '\n",
        "\n",
        "        self.reduction = reduction\n",
        "        self.alpha = alpha\n",
        "        self.beta = beta\n",
        "        # Assert loss(1)==0\n",
        "        self.gamma = - cos(pi/2 * alpha + beta)\n",
        "\n",
        "    def forward(self, y: torch.Tensor, inds: torch.Tensor):\n",
        "        ''' Compute the inverse sigmoid loss function\n",
        "\n",
        "        Args:\n",
        "            - y: A Float tensor with a shape (batch, C, d1, d2, ..., dK), C: number of classes.\n",
        "            - inds: A Long tensor of indices, with a shape (batch, d1, d2, ..., dK), \n",
        "                    where each entry is non-negative and smaller than C.\n",
        "\n",
        "        Returns:\n",
        "            - loss: depending on the reduction, the resulting tensor could be a scalar tensor, \n",
        "                    or a tensor with the same shape as 'inds' if 'reduction' is 'none'.\n",
        "        '''\n",
        "        return cosine_loss(y, inds, self.alpha, self.beta, self.gamma, self.reduction)\n"
      ],
      "execution_count": 5,
      "outputs": [
        {
          "output_type": "stream",
          "text": [
            "time: 33.5 ms (started: 2021-06-28 18:55:52 +00:00)\n"
          ],
          "name": "stdout"
        }
      ]
    },
    {
      "cell_type": "code",
      "metadata": {
        "colab": {
          "base_uri": "https://localhost:8080/"
        },
        "id": "aAKIZNz-aqGa",
        "outputId": "55eb2d7c-2941-4bc5-b6e5-a9eb0998f169"
      },
      "source": [
        "_a = torch.rand(4, 5)\n",
        "b = torch.tensor([1, 2, 3, 0])\n",
        "_a"
      ],
      "execution_count": 6,
      "outputs": [
        {
          "output_type": "execute_result",
          "data": {
            "text/plain": [
              "tensor([[0.7448, 0.4770, 0.9744, 0.7301, 0.8500],\n",
              "        [0.6688, 0.7645, 0.6790, 0.0454, 0.1290],\n",
              "        [0.4919, 0.2358, 0.9810, 0.9704, 0.2762],\n",
              "        [0.3241, 0.8553, 0.7690, 0.9935, 0.6545]])"
            ]
          },
          "metadata": {
            "tags": []
          },
          "execution_count": 6
        },
        {
          "output_type": "stream",
          "text": [
            "time: 221 ms (started: 2021-06-28 18:55:57 +00:00)\n"
          ],
          "name": "stdout"
        }
      ]
    },
    {
      "source": [
        "Making sure both loss function start from the same point in space."
      ],
      "cell_type": "markdown",
      "metadata": {}
    },
    {
      "cell_type": "code",
      "metadata": {
        "colab": {
          "base_uri": "https://localhost:8080/"
        },
        "id": "Wtqn0zyrfz7s",
        "outputId": "e534ce59-94f8-4c42-d11f-883e5632fe91"
      },
      "source": [
        "loss1 = Cosine()\n",
        "params1 = nn.Parameter(_a.clone().detach())"
      ],
      "execution_count": 8,
      "outputs": [
        {
          "output_type": "stream",
          "text": [
            "time: 3.65 ms (started: 2021-06-28 18:56:05 +00:00)\n"
          ],
          "name": "stdout"
        }
      ]
    },
    {
      "cell_type": "code",
      "metadata": {
        "colab": {
          "base_uri": "https://localhost:8080/"
        },
        "id": "KPVdY2qwf1gn",
        "outputId": "4e0e5199-7230-4b77-f2ba-63d5a54701a7"
      },
      "source": [
        "loss2 = nn.CrossEntropyLoss()\n",
        "params2 = nn.Parameter(_a.clone().detach())"
      ],
      "execution_count": 9,
      "outputs": [
        {
          "output_type": "stream",
          "text": [
            "time: 1.93 ms (started: 2021-06-28 18:56:07 +00:00)\n"
          ],
          "name": "stdout"
        }
      ]
    },
    {
      "cell_type": "code",
      "metadata": {
        "colab": {
          "base_uri": "https://localhost:8080/"
        },
        "id": "jpuaDGfoaq64",
        "outputId": "301ac70f-2d08-4271-e8c5-09b703745030"
      },
      "source": [
        "from tqdm.notebook import tqdm\n",
        "\n",
        "def train(loss, params, epochs):\n",
        "    opt = torch.optim.Adam([params], )\n",
        "    with tqdm(total=epochs) as pbar:\n",
        "        for i in range(epochs):\n",
        "            opt.zero_grad()\n",
        "            l = loss(params, b)\n",
        "            l.backward()\n",
        "            opt.step()\n",
        "            if i%1000 == 0:\n",
        "                print('loss =', l.item())\n",
        "            pbar.update(1)\n",
        "            pbar.set_postfix({'loss':l.item()})"
      ],
      "execution_count": 10,
      "outputs": [
        {
          "output_type": "stream",
          "text": [
            "time: 5.68 ms (started: 2021-06-28 18:56:08 +00:00)\n"
          ],
          "name": "stdout"
        }
      ]
    },
    {
      "cell_type": "code",
      "metadata": {
        "colab": {
          "base_uri": "https://localhost:8080/"
        },
        "id": "zTs9y53CawRS",
        "outputId": "c1475bf7-a640-4032-ae64-4771628eaf95"
      },
      "source": [
        "epochs = 5000"
      ],
      "execution_count": 11,
      "outputs": [
        {
          "output_type": "stream",
          "text": [
            "time: 1.18 ms (started: 2021-06-28 18:56:11 +00:00)\n"
          ],
          "name": "stdout"
        }
      ]
    },
    {
      "cell_type": "code",
      "metadata": {
        "colab": {
          "base_uri": "https://localhost:8080/",
          "height": 168,
          "referenced_widgets": [
            "241a15c0526f42e7aad8160b504edfa8",
            "6168dbb09c904809acbe9b88b85a1afa",
            "a0380bde8aaa4d70810dd773fdef2b46",
            "9e7f123709fb4bfbbfea8ee953e7a2c1",
            "6932105ba1b743ca81df2b314f9d5711",
            "6e5c26215a094d058cdea4ec59fed44c",
            "61eda86cd804427c8c14ec69c47fa2a1",
            "17618b3f48404e82b5e006f06a88b1b0"
          ]
        },
        "id": "P9PFTzw8gLcY",
        "outputId": "4e86f58a-c17c-407f-be67-4cc8393e38cc"
      },
      "source": [
        "train(loss1, params1, epochs)"
      ],
      "execution_count": 12,
      "outputs": [
        {
          "output_type": "display_data",
          "data": {
            "application/vnd.jupyter.widget-view+json": {
              "model_id": "241a15c0526f42e7aad8160b504edfa8",
              "version_minor": 0,
              "version_major": 2
            },
            "text/plain": [
              "HBox(children=(FloatProgress(value=0.0, max=5000.0), HTML(value='')))"
            ]
          },
          "metadata": {
            "tags": []
          }
        },
        {
          "output_type": "stream",
          "text": [
            "loss = 1.0307177305221558\n",
            "loss = 0.3706229329109192\n",
            "loss = 0.1132519394159317\n",
            "loss = 0.0504530668258667\n",
            "loss = 0.026487275958061218\n",
            "\n",
            "time: 18.7 s (started: 2021-06-28 18:56:13 +00:00)\n"
          ],
          "name": "stdout"
        }
      ]
    },
    {
      "cell_type": "code",
      "metadata": {
        "colab": {
          "base_uri": "https://localhost:8080/",
          "height": 168,
          "referenced_widgets": [
            "2ec2934e3128477b835c417de1b37a54",
            "5c406aeed38745e2bacf64e840648993",
            "dd482b582439423cbccb022e559dccbc",
            "7ade7b08483848a5973c365226817a9e",
            "abee176cb988486c9bf49e791932f0d6",
            "69491110ac5f4aa580c0901aa281c20f",
            "31c22d29e5e94dbfb1345331a03f4884",
            "bfcf984fa8084bd29d2ed5e27dc9fccb"
          ]
        },
        "id": "MHjnOP27fTcE",
        "outputId": "c06d45de-cbd7-49e7-fbdf-0391acfaed52"
      },
      "source": [
        "train(loss2, params2, epochs)"
      ],
      "execution_count": 13,
      "outputs": [
        {
          "output_type": "display_data",
          "data": {
            "application/vnd.jupyter.widget-view+json": {
              "model_id": "2ec2934e3128477b835c417de1b37a54",
              "version_minor": 0,
              "version_major": 2
            },
            "text/plain": [
              "HBox(children=(FloatProgress(value=0.0, max=5000.0), HTML(value='')))"
            ]
          },
          "metadata": {
            "tags": []
          }
        },
        {
          "output_type": "stream",
          "text": [
            "loss = 1.6613107919692993\n",
            "loss = 0.5666051506996155\n",
            "loss = 0.21057072281837463\n",
            "loss = 0.09622810781002045\n",
            "loss = 0.05013938248157501\n",
            "\n",
            "time: 17.3 s (started: 2021-06-28 18:56:43 +00:00)\n"
          ],
          "name": "stdout"
        }
      ]
    },
    {
      "source": [
        "* CE Loss yielded a solution with a 0.05 loss, but the solution of the Cosine loss has 0.016 value.\n",
        "* Likewise, if we compare the Cosine loss values of both solution, Cosine's solution is better."
      ],
      "cell_type": "markdown",
      "metadata": {}
    },
    {
      "cell_type": "code",
      "metadata": {
        "colab": {
          "base_uri": "https://localhost:8080/"
        },
        "id": "SokA3fKJgSMn",
        "outputId": "f48cfca3-a5b5-4262-c891-bc67b19a062d"
      },
      "source": [
        "loss2(params1, b), params1"
      ],
      "execution_count": 17,
      "outputs": [
        {
          "output_type": "execute_result",
          "data": {
            "text/plain": [
              "(tensor(0.0159, grad_fn=<NllLossBackward>), Parameter containing:\n",
              " tensor([[-2.1671,  3.3889, -1.9374, -2.1818, -2.0619],\n",
              "         [-1.9968, -1.9011,  3.3446, -2.6202, -2.5366],\n",
              "         [-2.0952, -2.3512, -1.6061,  3.5575, -2.3109],\n",
              "         [ 3.3023, -2.1229, -2.2092, -1.9848, -2.3238]], requires_grad=True))"
            ]
          },
          "metadata": {
            "tags": []
          },
          "execution_count": 17
        },
        {
          "output_type": "stream",
          "text": [
            "time: 6.32 ms (started: 2021-06-28 18:57:55 +00:00)\n"
          ],
          "name": "stdout"
        }
      ]
    },
    {
      "cell_type": "code",
      "metadata": {
        "colab": {
          "base_uri": "https://localhost:8080/"
        },
        "id": "qnl0YI0ohTSL",
        "outputId": "a4bec8a8-4679-4824-c870-b59ae6dfa647"
      },
      "source": [
        "loss1(params2, b), params2"
      ],
      "execution_count": 16,
      "outputs": [
        {
          "output_type": "execute_result",
          "data": {
            "text/plain": [
              "(tensor(0.0266, grad_fn=<MeanBackward0>), Parameter containing:\n",
              " tensor([[-1.8339,  3.0556, -1.6042, -1.8486, -1.7286],\n",
              "         [-1.7676, -1.6719,  3.1154, -2.3910, -2.3074],\n",
              "         [-1.9003, -2.1563, -1.4112,  3.3626, -2.1159],\n",
              "         [ 2.9421, -1.7627, -1.8490, -1.6246, -1.9636]], requires_grad=True))"
            ]
          },
          "metadata": {
            "tags": []
          },
          "execution_count": 16
        },
        {
          "output_type": "stream",
          "text": [
            "time: 7.28 ms (started: 2021-06-28 18:57:53 +00:00)\n"
          ],
          "name": "stdout"
        }
      ]
    },
    {
      "cell_type": "code",
      "metadata": {
        "id": "EkuZs4TThUzZ"
      },
      "source": [],
      "execution_count": null,
      "outputs": []
    },
    {
      "cell_type": "code",
      "metadata": {
        "id": "zK3yJBuVnmfq"
      },
      "source": [],
      "execution_count": null,
      "outputs": []
    }
  ]
}